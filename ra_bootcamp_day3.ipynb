{
 "cells": [
  {
   "cell_type": "markdown",
   "id": "obvious-excerpt",
   "metadata": {},
   "source": [
    "# Observations in PHX Using A Radio Horn"
   ]
  },
  {
   "cell_type": "code",
   "execution_count": null,
   "id": "nutritional-psychiatry",
   "metadata": {},
   "outputs": [],
   "source": [
    "%matplotlib inline\n",
    "import numpy as np\n",
    "import matplotlib.pyplot as plt\n",
    "import chart\n",
    "from scipy import signal\n",
    "from scipy.ndimage import median_filter\n",
    "%matplotlib inline\n",
    "import numpy as np\n",
    "import matplotlib.pyplot as plt\n",
    "import chart\n",
    "from astropy import units as u\n",
    "from astropy.coordinates import SpectralCoord, EarthLocation, SkyCoord\n",
    "from astropy.time import Time\n",
    "import pandas as pd\n",
    "import scipy.stats as stays\n",
    "from scipy.optimize import curve_fit\n",
    "import matplotlib.pyplot as plt\n",
    "import math\n",
    "\n",
    "f0 = 1.420405751768  # GHz\n",
    "speed_of_light = 299792458  # m/s\n",
    "def plot_f0(lims=[20, 50], xval=f0):\n",
    "    plt.plot([xval, xval], lims, '--k', lw=0.5)\n",
    "def f2v(freq):\n",
    "        return -(np.array(freq)-f0) * speed_of_light / np.array(freq)"
   ]
  },
  {
   "cell_type": "markdown",
   "id": "accomplished-dimension",
   "metadata": {},
   "source": [
    "# Where is the data located?"
   ]
  },
  {
   "cell_type": "code",
   "execution_count": null,
   "id": "consolidated-technical",
   "metadata": {},
   "outputs": [],
   "source": [
    "data_dir = '/home/lmberkhout/CHARTDATA/'\n",
    "paths = ['PHX_BABY1_11_11_2022',\n",
    "        'PHX_BABY2_11_11_2022']"
   ]
  },
  {
   "cell_type": "markdown",
   "id": "liquid-party",
   "metadata": {},
   "source": [
    "# Make a simple plot of the two data trials."
   ]
  },
  {
   "cell_type": "code",
   "execution_count": null,
   "id": "boring-wallpaper",
   "metadata": {},
   "outputs": [],
   "source": [
    "ntrials = len(paths)\n",
    "print(ntrials)\n",
    "data = []\n",
    "mdata = []\n",
    "spectra = [[] for _ in range(ntrials)]\n",
    "freqs = [[] for _ in range(ntrials)]\n",
    "\n",
    "for i in range(ntrials):\n",
    "    d, m = chart.analysis.read_run(directory=data_dir + paths[i])\n",
    "    d = np.array(d)\n",
    "    data.append(d)\n",
    "    mdata.append(m)\n",
    "    nchans = m[0]['vector_length']\n",
    "    nremove = nchans // 32\n",
    "    \n",
    "\n",
    "for j in range(ntrials):\n",
    "    for d, m in zip(data[j], mdata[j]):\n",
    "        spectrum = np.mean(d, axis=0) \n",
    "        spectrum = spectrum[nremove:-nremove]\n",
    "        spectrum = 10 * np.log10(spectrum)\n",
    "        frequencies = ((np.arange(m['vector_length']) - m['vector_length'] / 2)\n",
    "                           * m['samp_rate'] / m['vector_length'] + m['frequency'])\n",
    "        frequencies = 1e-9 * frequencies[nremove:-nremove]\n",
    "        spectra[j].append(spectrum)\n",
    "        freqs[j].append(frequencies)\n",
    "\n",
    "    for k in range(len(spectra[j]) - 1):\n",
    "        spec1 = spectra[j][k]\n",
    "        spec2 = spectra[j][k + 1]\n",
    "        freq1 = freqs[j][k]\n",
    "        freq2 = freqs[j][k + 1]\n",
    "        ncommon = np.sum([1 if f in freq2 else 0 for f in freq1])\n",
    "        spec2 += np.median(spec1[-ncommon:]) - np.median(spec2[:ncommon])\n",
    "        spectra[j][k + 1] = spec2\n",
    "    \n",
    "plt.figure(figsize=(10,10))\n",
    "\n",
    "for j in range(ntrials):\n",
    "    if j == 0:\n",
    "        ax = plt.subplot(ntrials, 1, j + 1)\n",
    "        ax.set_title('Control Scan')\n",
    "    else:\n",
    "        plt.subplot(ntrials, 1, j + 1, sharex=ax, sharey=ax)\n",
    "        plt.title('Data Scan')\n",
    "    for f, s in zip(freqs[j], spectra[j]):\n",
    "        plt.plot(f, s)\n",
    "    plt.ylabel('[dB]')\n",
    "    plot_f0()\n",
    "    \n",
    "plt.ylim(30,45)\n",
    "plt.xlabel('Frequency [GHz]')"
   ]
  },
  {
   "cell_type": "markdown",
   "id": "polish-syracuse",
   "metadata": {},
   "source": [
    "# Bandpass Calibration"
   ]
  },
  {
   "cell_type": "code",
   "execution_count": null,
   "id": "silent-playlist",
   "metadata": {},
   "outputs": [],
   "source": [
    "ntrials = len(paths)\n",
    "data = []\n",
    "mdata = []\n",
    "bps= []\n",
    "spectra = [[] for _ in range(ntrials)]\n",
    "freqs = [[] for _ in range(ntrials)]\n",
    "\n",
    "for i in range(ntrials):\n",
    "    d, m = chart.analysis.read_run(directory=data_dir + paths[i])\n",
    "    d = np.array(d)\n",
    "    data.append(d)\n",
    "    mdata.append(m)\n",
    "    nchans = m[0]['vector_length']\n",
    "    nremove = nchans // 32\n",
    "for i in range(ntrials):\n",
    "    d, m = chart.analysis.read_run(directory=data_dir + paths[i])\n",
    "    d = np.array(d)\n",
    "    data.append(d)\n",
    "    mdata.append(m)\n",
    "    # Rough estimate for bandpass\n",
    "    nchans = m[0]['vector_length']\n",
    "    levels = np.median(d[:, :, nchans // 4:(-nchans // 4)], axis=(1, 2))\n",
    "    rescaled = d / levels.reshape(-1, 1, 1)\n",
    "    bp = np.median(rescaled, axis=(0, 1))\n",
    "    bps.append(bp)\n",
    "    \n",
    "for j in range(ntrials):\n",
    "    for d, m in zip(data[j], mdata[j]):\n",
    "        spectrum = np.mean(d, axis=0) / bps[j]\n",
    "        spectrum = spectrum[nremove:-nremove]\n",
    "        spectrum = 10 * np.log10(spectrum)\n",
    "        frequencies = ((np.arange(m['vector_length']) - m['vector_length'] / 2)\n",
    "                           * m['samp_rate'] / m['vector_length'] + m['frequency'])\n",
    "        frequencies = 1e-9 * frequencies[nremove:-nremove]\n",
    "        spectra[j].append(spectrum)\n",
    "        freqs[j].append(frequencies)\n",
    "\n",
    "    for k in range(len(spectra[j]) - 1):\n",
    "        spec1 = spectra[j][k]\n",
    "        spec2 = spectra[j][k + 1]\n",
    "        freq1 = freqs[j][k]\n",
    "        freq2 = freqs[j][k + 1]\n",
    "        ncommon = np.sum([1 if f in freq2 else 0 for f in freq1])\n",
    "        spec2 += np.median(spec1[-ncommon:]) - np.median(spec2[:ncommon])\n",
    "        spectra[j][k + 1] = spec2"
   ]
  },
  {
   "cell_type": "markdown",
   "id": "controlling-stress",
   "metadata": {},
   "source": [
    "A quick look at each trial individually. Color corresponds to different tunings."
   ]
  },
  {
   "cell_type": "code",
   "execution_count": null,
   "id": "documentary-juvenile",
   "metadata": {},
   "outputs": [],
   "source": [
    "fig,axs = plt.subplots(ntrials, 1, sharex=True, figsize=(12,10))\n",
    "for j in range(ntrials):\n",
    "    for f, s in zip(freqs[j], spectra[j]):\n",
    "        axs[j].plot(f, s)\n",
    "    if j==0:\n",
    "        axs[j].set_title('Control')\n",
    "    if j==1:\n",
    "        axs[j].set_title('Data')\n",
    "    axs[j].set_ylabel('[dB]')\n",
    "    axs[j].axvline(1.4204)\n",
    "    #plot_f0(lims=[37, 39])\n",
    "    \n",
    "plt.legend()\n",
    "plt.xlabel('Frequency [GHz]')"
   ]
  },
  {
   "cell_type": "code",
   "execution_count": null,
   "id": "inappropriate-protocol",
   "metadata": {},
   "outputs": [],
   "source": [
    "smoothed = []\n",
    "zscores = []\n",
    "mask = []\n",
    "kern = 25\n",
    "footprint = np.ones(2 * kern + 1)\n",
    "footprint[kern] = 0\n",
    "\n",
    "for data in spectra[1]:\n",
    "    \n",
    "    data = np.concatenate([data[kern - 1::-1], data, data[:-kern - 1:-1]])\n",
    "    d_sm = median_filter(data.real, footprint=footprint)\n",
    "    d_rs = data - d_sm\n",
    "    d_sq = np.abs(d_rs)**2\n",
    "    # Factor of .456 is to put mod-z scores on same scale as standard deviation.\n",
    "    sig = np.sqrt(median_filter(d_sq, footprint=footprint) / .456)\n",
    "    zscore = (d_rs / sig)[kern:-kern]\n",
    "    smoothed.append(d_sm[kern:-kern])\n",
    "    zscores.append(zscore)\n",
    "    mask.append(zscore > 1.5)\n"
   ]
  },
  {
   "cell_type": "code",
   "execution_count": null,
   "id": "announced-memory",
   "metadata": {},
   "outputs": [],
   "source": [
    "plt.figure(figsize=(12,10))\n",
    "\n",
    "for i, spec in enumerate(spectra[1]):\n",
    "    if i == 0:\n",
    "        plt.plot(freqs[1][i], spec, color='C1', label='Data')\n",
    "        plt.plot(freqs[1][i], np.ma.masked_array(spec, mask[i]), color='C2', label='Masked Data')\n",
    "    else:\n",
    "        plt.plot(freqs[1][i], spec, color='C1')\n",
    "        plt.plot(freqs[1][i], np.ma.masked_array(spec, mask[i]), color='C2')\n",
    "    plt.legend()"
   ]
  },
  {
   "cell_type": "markdown",
   "id": "shaped-person",
   "metadata": {},
   "source": [
    "# Masked Spectrum"
   ]
  },
  {
   "cell_type": "code",
   "execution_count": null,
   "id": "composed-centre",
   "metadata": {},
   "outputs": [],
   "source": [
    "plt.figure(figsize=(10,12))\n",
    "j = 1\n",
    "for k in range(len(freqs[j])):\n",
    "    data = np.ma.masked_array(spectra[j][k], mask[k])\n",
    "    if k == 0:\n",
    "        plt.plot(freqs[j][k], data, 'C' + str(j), label='Masked Data')\n",
    "    else:\n",
    "        plt.plot(freqs[j][k], data, 'C' + str(j))\n",
    "plt.ylabel('[dB]')\n",
    "plot_f0(lims=(37.2,37.8))\n",
    "plt.legend()\n",
    "plt.xlabel('Frequency [GHz]')\n",
    "plt.xlim([1.419, 1.422])"
   ]
  },
  {
   "cell_type": "markdown",
   "id": "digital-respect",
   "metadata": {},
   "source": [
    "# Average overlapping scans "
   ]
  },
  {
   "cell_type": "code",
   "execution_count": null,
   "id": "missing-browser",
   "metadata": {},
   "outputs": [],
   "source": [
    "# Do a very brute-force infill\n",
    "\n",
    "j = 1\n",
    "for k in range(len(freqs[j])):\n",
    "    for ind in np.where(mask[k])[0]:\n",
    "        # find nearest below\n",
    "        if ind > 0 and ind < (len(spectra[j][k])-1):\n",
    "            left = np.where(np.where(~mask[k])[0] < ind)[0]\n",
    "            if len(left) > 0:\n",
    "                ind1 = np.max(left)\n",
    "            else:\n",
    "                ind1 = 0\n",
    "            ind1 = np.where(~mask[k])[0][ind1]\n",
    "            right = np.where(np.where(~mask[k])[0] > ind)[0]\n",
    "            if len(right) > 0:\n",
    "                ind2 = np.min(right)\n",
    "            else:\n",
    "                ind2 = len(np.where(~mask[k][0]))\n",
    "            ind2 = np.where(~mask[k])[0][ind2]\n",
    "\n",
    "            # point slope\n",
    "            slope = (spectra[j][k][ind2] - spectra[j][k][ind1]) / (ind2 - ind1)\n",
    "            spectra[j][k][ind] = slope * (ind - ind1) + spectra[j][k][ind1]\n",
    "    spectra[j][k] = median_filter(spectra[j][k], 5)"
   ]
  },
  {
   "cell_type": "code",
   "execution_count": null,
   "id": "existing-holmes",
   "metadata": {},
   "outputs": [],
   "source": [
    "allfreqs = np.unique(freqs)\n",
    "allspec = np.zeros(len(allfreqs))\n",
    "counts = np.zeros(len(allfreqs))\n",
    "for k in range(len(freqs[j])):\n",
    "    for chan in range(len(freqs[j][k])):\n",
    "        ind = np.where(freqs[j][k][chan] == allfreqs)[0]\n",
    "        allspec[ind] += spectra[j][k][chan]\n",
    "        counts[ind] += 1\n",
    "allspec = allspec / counts"
   ]
  },
  {
   "cell_type": "code",
   "execution_count": null,
   "id": "chronic-movie",
   "metadata": {},
   "outputs": [],
   "source": [
    "# Have a look at my unified spectrum\n",
    "plt.figure(figsize=(10,12))\n",
    "plt.plot(allfreqs, allspec, label='Averaged Spectrum')\n",
    "plt.ylabel('[dB]')\n",
    "plot_f0()\n",
    "plt.legend()\n",
    "plt.xlabel('Frequency [GHz]')\n",
    "plt.ylim([37.2, 37.8])\n",
    "plt.xlim([1.419, 1.422])"
   ]
  },
  {
   "cell_type": "code",
   "execution_count": null,
   "id": "synthetic-accident",
   "metadata": {},
   "outputs": [],
   "source": [
    "plt.figure(figsize=(10,12))\n",
    "plt.plot(allfreqs, allspec, label='Averaged Spectrum')\n",
    "plt.ylabel('[dB]')\n",
    "plot_f0()\n",
    "plt.legend()\n",
    "plt.xlabel('Frequency [GHz]')\n",
    "plt.ylim([37.2, 37.8])\n",
    "plt.grid()\n",
    "plt.xlim([1.4205, 1.4210])"
   ]
  },
  {
   "cell_type": "markdown",
   "id": "focal-arkansas",
   "metadata": {},
   "source": [
    "## Delay filter\n",
    "\n",
    "Before we do that, let's get a rough estimate of where we expect the offending peak will be. Doing some poking on the plot above, I counted ten peaks between 1.4195306 and 1.4199818 GHz. So I'd expect the peak to be approximately $\\tau=10/(1.4199818 - 1.4195306) \\text{ ns} = 22,163 \\text{ ns}$.\n",
    "\n",
    "Let's take a look."
   ]
  },
  {
   "cell_type": "code",
   "execution_count": null,
   "id": "cellular-selection",
   "metadata": {},
   "outputs": [],
   "source": [
    "ft = np.fft.fftshift(np.fft.fft(10**(allspec/10),len(allfreqs)))\n",
    "fftfreq = np.fft.fftshift(np.fft.fftfreq(len(allspec), allfreqs[1]-allfreqs[2]))\n",
    "plt.figure(figsize=(12,10))\n",
    "plt.semilogy(fftfreq, np.abs(ft), label='Delay Tranformed Data')\n",
    "plt.legend()\n",
    "plt.xlabel('Delay (ns)')"
   ]
  },
  {
   "cell_type": "markdown",
   "id": "simplified-province",
   "metadata": {},
   "source": [
    "That first peak is just about 22,200 ns. Science baby!\n",
    "\n",
    "Let's filter it and some of its buddies out. "
   ]
  },
  {
   "cell_type": "code",
   "execution_count": null,
   "id": "aboriginal-branch",
   "metadata": {},
   "outputs": [],
   "source": [
    "# Plot with index numbers so I can grab them by hand for filtering.\n",
    "plt.figure(figsize=(10,12))\n",
    "plt.plot(np.abs(ft))\n",
    "plt.xlabel('Array index')\n",
    "plt.legend('')\n",
    "plt.ylim([0, 25e3])"
   ]
  },
  {
   "cell_type": "code",
   "execution_count": null,
   "id": "colored-northwest",
   "metadata": {},
   "outputs": [],
   "source": [
    "spike_inds = np.array([814, 921, 922, 923, 1031, 1139, 1140, 1141, 1355, 1356, 1357, 1465, 1573, 1574, 1575, 1682])\n",
    "nmiddle = 2\n",
    "middle_inds = np.arange(1248 - nmiddle, 1248 + nmiddle + 1)\n",
    "\n",
    "# let's try infilling again\n",
    "mask = np.zeros(len(ft), dtype=bool)\n",
    "mask[spike_inds] = True\n",
    "for ind in spike_inds:\n",
    "    left = np.where(np.where(~mask)[0] < ind)[0]\n",
    "    ind1 = np.max(left)\n",
    "    ind1 = np.where(~mask)[0][ind1]\n",
    "    right = np.where(np.where(~mask)[0] > ind)[0]\n",
    "    ind2 = np.min(right)\n",
    "    ind2 = np.where(~mask)[0][ind2]\n",
    "    \n",
    "    slope = (ft[ind2] - ft[ind1]) / (ind2 - ind1)\n",
    "    ft[ind] = slope * (ind - ind1) + ft[ind1]\n",
    "\n",
    "offset = ft[1248]\n",
    "ft[middle_inds] = 0\n",
    "ft[1248] = offset"
   ]
  },
  {
   "cell_type": "code",
   "execution_count": null,
   "id": "academic-pencil",
   "metadata": {},
   "outputs": [],
   "source": [
    "plt.figure(figsize=(12,10))\n",
    "plt.title('Filtered Delay Spectrum')\n",
    "plt.plot(np.abs(ft))\n",
    "plt.ylim([0, 25e3])"
   ]
  },
  {
   "cell_type": "code",
   "execution_count": null,
   "id": "danish-illustration",
   "metadata": {},
   "outputs": [],
   "source": [
    "dfiltered = np.abs(np.fft.ifft(np.fft.ifftshift(ft)))\n",
    "dfiltered = 10 * np.log10(dfiltered)"
   ]
  },
  {
   "cell_type": "code",
   "execution_count": null,
   "id": "fixed-division",
   "metadata": {},
   "outputs": [],
   "source": [
    "plt.figure(figsize=(12,10))\n",
    "plt.plot(allfreqs, dfiltered,label='Delay Filtered Data')\n",
    "plt.ylabel('[dB]')\n",
    "plot_f0()\n",
    "plt.legend()\n",
    "plt.xlabel('Frequency [GHz]')\n",
    "plt.ylim([37.2, 37.8])\n",
    "plt.xlim([1.419, 1.422])"
   ]
  },
  {
   "cell_type": "markdown",
   "id": "western-andrew",
   "metadata": {},
   "source": [
    "# Convert to velocity"
   ]
  },
  {
   "cell_type": "code",
   "execution_count": null,
   "id": "surrounded-slovenia",
   "metadata": {},
   "outputs": [],
   "source": [
    "plt.figure(figsize=(10,12))\n",
    "velocity = f2v(allfreqs) / 1000\n",
    "plt.ylim([37.3, 37.7])\n",
    "plt.xlim(-100,100)\n",
    "plt.plot(velocity, dfiltered, label = 'Velocity Profile')\n",
    "plt.ylabel('[dB]')\n",
    "plot_f0()\n",
    "plt.legend()\n",
    "plt.xlabel('Velocity (km/s)')\n"
   ]
  }
 ],
 "metadata": {
  "kernelspec": {
   "display_name": "base",
   "language": "python",
   "name": "base"
  },
  "language_info": {
   "codemirror_mode": {
    "name": "ipython",
    "version": 3
   },
   "file_extension": ".py",
   "mimetype": "text/x-python",
   "name": "python",
   "nbconvert_exporter": "python",
   "pygments_lexer": "ipython3",
   "version": "3.6.4"
  }
 },
 "nbformat": 4,
 "nbformat_minor": 5
}
