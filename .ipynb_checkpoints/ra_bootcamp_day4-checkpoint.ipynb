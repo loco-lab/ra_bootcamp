{
 "cells": [
  {
   "cell_type": "markdown",
   "id": "material-mandate",
   "metadata": {},
   "source": [
    "# Galaxy Observations\n",
    "## Winona, MN. 2022-10-08\n",
    "## Adam Beardsley, Ahlea Wright\n",
    "\n",
    "On 2022 Oct 8, we took our horn (\"Donna Jean\") to a park on Winona's small lake, at Sioux St and 15th. Notes from the observing night:\n",
    "\n",
    "```\n",
    "Trial 3:\n",
    "Long edge of horn oriented E-W\n",
    "pointed 0 deg N-S\n",
    "Default observing parameters\n",
    "Started 6:12pm\n",
    "\n",
    "Trial 2:\n",
    "Tilted down, 37 deg S of vertical\n",
    "Freqs 1410-1431\n",
    "Started 6:25pm\n",
    "\n",
    "Trial 1:\n",
    "Laying down toward S, elevation=17deg\n",
    "Same freqs as Trial 2\n",
    "Started 6:35pm\n",
    "\n",
    "```"
   ]
  },
  {
   "cell_type": "code",
   "execution_count": null,
   "id": "cardiac-criminal",
   "metadata": {},
   "outputs": [],
   "source": [
    "%matplotlib inline\n",
    "import numpy as np\n",
    "import matplotlib.pyplot as plt\n",
    "import chart\n",
    "from astropy import units as u\n",
    "from astropy.coordinates import SpectralCoord, EarthLocation, SkyCoord\n",
    "from astropy.time import Time\n",
    "import pandas as pd\n",
    "import math\n",
    "import scipy.stats\n",
    "from scipy.optimize import curve_fit"
   ]
  },
  {
   "cell_type": "markdown",
   "id": "packed-glance",
   "metadata": {},
   "source": [
    "# Data Preprocessing"
   ]
  },
  {
   "cell_type": "code",
   "execution_count": null,
   "id": "missing-principal",
   "metadata": {},
   "outputs": [],
   "source": [
    "# A couple constants and useful functions for later.\n",
    "f0 = 1.420405751768  # GHz\n",
    "speed_of_light = 299792458  # m/s\n",
    "c = 3e8 * (u.meter/u.second)\n",
    "\n",
    "def plot_f0(lims=[30, 40], xval=f0):\n",
    "    plt.plot([xval, xval], lims, '--k', lw=0.5)\n",
    "def f2v(freq):\n",
    "    return -(np.array(freq)-f0) * speed_of_light / np.array(freq)\n",
    "def doppler(shifted,rest):\n",
    "    v = (c*(shifted-rest*u.GHz)/(shifted))\n",
    "    return v "
   ]
  },
  {
   "cell_type": "code",
   "execution_count": null,
   "id": "alpine-patio",
   "metadata": {},
   "outputs": [],
   "source": [
    "data_dir = '/home/lmberkhout/ra_bootcamp/CHARTDATA/'\n",
    "paths = ['winona_2022.20.08_1_6:12_pm',\n",
    "     'winona_2022.20.8_2_6:25_pm',\n",
    "     'winona_2022.20.8_4_6:35_pm']\n",
    "\n",
    "ntrials = len(paths)\n",
    "data = []\n",
    "mdata = []\n",
    "bps = []  # bandpasses\n",
    "\n",
    "for i in range(ntrials):\n",
    "    d, m = chart.analysis.read_run(directory=data_dir + paths[i])\n",
    "    d = np.array(d)\n",
    "    data.append(d)\n",
    "    mdata.append(m)\n",
    "    # Rough estimate for bandpass\n",
    "    nchans = m[0]['vector_length']\n",
    "    levels = np.median(d[:, :, nchans // 4:(-nchans // 4)], axis=(1, 2))\n",
    "    rescaled = d / levels.reshape(-1, 1, 1)\n",
    "    bp = np.median(rescaled, axis=(0, 1))\n",
    "    bps.append(bp)"
   ]
  },
  {
   "cell_type": "code",
   "execution_count": null,
   "id": "distributed-entrepreneur",
   "metadata": {},
   "outputs": [],
   "source": [
    "ntrials = len(data)\n",
    "spectra = [[] for _ in range(ntrials)]\n",
    "freqs = [[] for _ in range(ntrials)]\n",
    "nremove = nchans // 16"
   ]
  },
  {
   "cell_type": "code",
   "execution_count": null,
   "id": "linear-verse",
   "metadata": {},
   "outputs": [],
   "source": [
    "for j in range(ntrials):\n",
    "    for d, m in zip(data[j], mdata[j]):\n",
    "        spectrum = np.mean(d, axis=0)/ bps[0]\n",
    "        spectrum = 10*np.log10(spectrum)\n",
    "        spectrum = spectrum[nremove:-nremove]\n",
    "        frequencies = ((np.arange(m['vector_length']) - m['vector_length'] / 2)\n",
    "                           * m['samp_rate'] / m['vector_length'] + m['frequency'])\n",
    "        frequencies = 1e-9 * frequencies[nremove:-nremove]\n",
    "        spectra[j].append(spectrum)\n",
    "        freqs[j].append(frequencies)\n",
    "\n",
    "    for k in range(len(spectra[j]) - 1):\n",
    "        spec1 = spectra[j][k]\n",
    "        spec2 = spectra[j][k + 1]\n",
    "        freq1 = freqs[j][k]\n",
    "        freq2 = freqs[j][k + 1]\n",
    "        ncommon = np.sum([1 if f in freq2 else 0 for f in freq1])\n",
    "        spec2 += np.median(spec1[-ncommon:]) - np.median(spec2[:ncommon])\n",
    "        spectra[j][k + 1] = spec2"
   ]
  },
  {
   "cell_type": "markdown",
   "id": "numerous-resolution",
   "metadata": {},
   "source": [
    "A quick look at each trial individually. Color corresponds to different tunings."
   ]
  },
  {
   "cell_type": "code",
   "execution_count": null,
   "id": "friendly-better",
   "metadata": {
    "scrolled": true
   },
   "outputs": [],
   "source": [
    "plt.figure()\n",
    "fig,axs = plt.subplots(ntrials, 1, sharex=True, figsize=(10,8))\n",
    "for j in range(ntrials):\n",
    "    for f, s in zip(freqs[j], spectra[j]):\n",
    "        axs[j].plot(f, s)\n",
    "    if j==0:\n",
    "        axs[j].set_title('Pointing 3')\n",
    "        axs[j].set_ylim(35,36)\n",
    "    if j==1:\n",
    "        axs[j].set_title('Pointing 2')\n",
    "        axs[j].set_ylim(33,35)\n",
    "    if j==2:\n",
    "        axs[j].set_title('Pointing 1')\n",
    "\n",
    "\n",
    "    axs[j].set_ylabel('[dB]')\n",
    "    axs[j].axvline(1.4204)\n",
    "    #plot_f0(lims=[37, 39])\n",
    "plt.xlim(1.42,1.421)   \n",
    "plt.legend()\n",
    "plt.xlabel('Frequency [GHz]')\n",
    "plt.xlabel('Frequency [GHz]')"
   ]
  },
  {
   "cell_type": "markdown",
   "id": "animated-england",
   "metadata": {},
   "source": [
    "# Comparison to Survey Data"
   ]
  },
  {
   "cell_type": "markdown",
   "id": "attempted-present",
   "metadata": {},
   "source": [
    "## Pointing 2"
   ]
  },
  {
   "cell_type": "code",
   "execution_count": null,
   "id": "perceived-powell",
   "metadata": {},
   "outputs": [],
   "source": [
    "#location = EarthLocation.from_geodetic(-91.64, 44.048708, 200*u.m) #Winona Lon, Lat, elevation\n",
    "#location = location.get_itrs(obstime=Time('2022-10-08T18:25:00')) #To ITRS frame, makes Earth stationary with Sun \n",
    "#pointing_45deg = SkyCoord('19h 47m20.6s','10d40m12.1s', frame='icrs') #Center of CHART pointing\n",
    "#frequency = SpectralCoord(1.420405751768e9 * u.Hz, observer=location, target=pointing_45deg) #Shift expected from just local motion\n",
    "#f0_shifted = frequency.with_observer_stationary_relative_to('lsrk') #correct for kinematic local standard of rest\n",
    "#f0_shifted = f0_shifted.to(u.GHz)\n",
    "#v = doppler(f0_shifted,f0)\n",
    "#v_adjustment = v.to(u.km/u.second)\n",
    "#print(v_adjustment)\n",
    "v_adjustment = 0\n"
   ]
  },
  {
   "cell_type": "markdown",
   "id": "independent-direction",
   "metadata": {},
   "source": [
    "Insert name of your file where it says (input). Do not add the parenthesis."
   ]
  },
  {
   "cell_type": "code",
   "execution_count": null,
   "id": "alike-subdivision",
   "metadata": {},
   "outputs": [],
   "source": [
    "sh_comp = pd.read_table('HI_profiles_comparison/(input)',skiprows=[0,1,2,3],names=['v_lsr', 'T_B', 'freq', 'wavel'], delimiter = '\\s+')\n",
    "\n"
   ]
  },
  {
   "cell_type": "code",
   "execution_count": null,
   "id": "democratic-tours",
   "metadata": {},
   "outputs": [],
   "source": [
    "j = 1\n",
    "fig, ax1 = plt.subplots()\n",
    "\n",
    "compTB = sh_comp['T_B']\n",
    "\n",
    "noise=0\n",
    "gain=1\n",
    "\n",
    "#noise = 2315\n",
    "#gain = max(10**(spectra[j][11]/10)-2315)/(max(compTB))\n",
    "\n",
    "for k in range(10,12):\n",
    "    velocity = f2v(freqs[j][k]*u.GHz) / 1000\n",
    "    if k==10:\n",
    "        ax1.plot(velocity*(u.kilometer)/(u.second)-v_adjustment, (10**(spectra[j][k]/10)- noise)/gain, 'tab:blue',  label = 'CHART')\n",
    "    if k==11:\n",
    "        ax1.plot(velocity*(u.kilometer)/(u.second)-v_adjustment, (10**(spectra[j][k]/10) - noise)/gain,'tab:blue')\n",
    "\n",
    "\n",
    "ax1.plot(sh_comp['v_lsr'],compTB,'tab:orange', linewidth=2, label = 'Model')\n",
    "\n",
    "\n",
    "plt.axvline(0, color ='k')\n",
    "\n",
    "ax1.set_ylabel('[TB]')\n",
    "\n",
    "plt.xlim(-150,150)\n",
    "ax1.legend(loc='best')\n",
    "plt.xlabel('Radial Velocity km/s')\n",
    "plt.title('CHART HI Profile and Model Profile for l=48 and b=-7 degrees')"
   ]
  },
  {
   "cell_type": "markdown",
   "id": "honey-bennett",
   "metadata": {},
   "source": [
    "# Pointing 3"
   ]
  },
  {
   "cell_type": "code",
   "execution_count": null,
   "id": "oriental-gambling",
   "metadata": {},
   "outputs": [],
   "source": [
    "#location = EarthLocation.from_geodetic(-91.64, 44.048708, 200*u.m) #Winona Lon, Lat, elevation\n",
    "#location = location.get_itrs(obstime=Time('2022-10-08T18:00:00')) #To ITRS frame, makes Earth stationary with Sun \n",
    "#pointing_45deg = SkyCoord('19h45m41.8s','45d11m16.4s', frame='icrs') #Center of CHART pointing\n",
    "#frequency = SpectralCoord(1.420405751768e9 * u.Hz, observer=location, target=pointing_45deg) #Shift expected from just local motion\n",
    "#f0_shifted = frequency.with_observer_stationary_relative_to('lsrk') #correct for kinematic local standard of rest\n",
    "#f0_shifted = f0_shifted.to(u.GHz)\n",
    "#v = doppler(f0_shifted,f0)\n",
    "#v_adjustment = v.to(u.km/u.second)\n",
    "#print(v_adjustment)\n",
    "v_adjustment=0"
   ]
  },
  {
   "cell_type": "markdown",
   "id": "brilliant-deficit",
   "metadata": {},
   "source": [
    "Insert name of your file where it says (input). Do not add the parenthesis."
   ]
  },
  {
   "cell_type": "code",
   "execution_count": null,
   "id": "polar-wallpaper",
   "metadata": {},
   "outputs": [],
   "source": [
    "sh_comp = pd.read_table('HI_profiles_comparison/(input)',skiprows=[0,1,2,3],names=['v_lsr', 'T_B', 'freq', 'wavel'], delimiter = '\\s+')"
   ]
  },
  {
   "cell_type": "code",
   "execution_count": null,
   "id": "three-safety",
   "metadata": {},
   "outputs": [],
   "source": [
    "j = 0\n",
    "\n",
    "fig, ax1 = plt.subplots()\n",
    "\n",
    "compTB = sh_comp['T_B']\n",
    "\n",
    "noise = 0\n",
    "gain = 1\n",
    "\n",
    "#noise = 3475\n",
    "#gain = max(10**(spectra[j][31]/10)-3475)/(max(compTB))\n",
    "\n",
    "for k in range(30,32):\n",
    "    velocity = f2v(freqs[j][k]*u.GHz) / 1000\n",
    "    if k == 30:\n",
    "        ax1.plot(velocity*(u.kilometer)/(u.second)-v_adjustment, (10**(spectra[j][k]/10)- noise)/gain ,'tab:blue', label = 'CHART')\n",
    "    else:\n",
    "        ax1.plot(velocity*(u.kilometer)/(u.second)-v_adjustment, (10**(spectra[j][k]/10) - noise)/gain,'tab:blue')\n",
    "\n",
    "ax1.plot(sh_comp['v_lsr'],compTB, 'tab:orange',linewidth=2, label = 'Model')\n",
    "\n",
    "\n",
    "plt.axvline(0, color = 'k')\n",
    "\n",
    "ax1.set_ylabel('[TB]')\n",
    "plt.xlim(-100,100)\n",
    "ax1.legend(loc = 'best')\n",
    "\n",
    "plt.xlabel('Radial Velocity km/s')\n",
    "plt.title('CHART HI Profile and Model Profile for l=90 and b=0 degrees')"
   ]
  },
  {
   "cell_type": "markdown",
   "id": "about-taiwan",
   "metadata": {},
   "source": [
    "# Pointing 1"
   ]
  },
  {
   "cell_type": "code",
   "execution_count": null,
   "id": "directed-grain",
   "metadata": {},
   "outputs": [],
   "source": [
    "#location = EarthLocation.from_geodetic(-91.64, 44.048708, 200*u.m) #Winona Lon, Lat, elevation\n",
    "#location = location.get_itrs(obstime=Time('2022-10-08T18:30:00')) #To ITRS frame, makes Earth stationary with Sun \n",
    "#pointing_45deg = SkyCoord('ra','dec', frame='icrs') #Center of CHART pointing\n",
    "#frequency = SpectralCoord(1.420405751768e9 * u.Hz, observer=location, target=pointing_45deg) #Shift expected from just local motion\n",
    "#f0_shifted = frequency.with_observer_stationary_relative_to('lsrk') #correct for kinematic local standard of rest\n",
    "#f0_shifted = f0_shifted.to(u.GHz)\n",
    "#v = doppler(f0_shifted,f0)\n",
    "#v_adjustment = v.to(u.km/u.second)\n",
    "#print(v_adjustment)\n",
    "v_adjustment = 0"
   ]
  },
  {
   "cell_type": "markdown",
   "id": "organizational-bonus",
   "metadata": {},
   "source": [
    "Insert name of your file where it says (input). Do not add the parenthesis."
   ]
  },
  {
   "cell_type": "code",
   "execution_count": null,
   "id": "logical-blond",
   "metadata": {},
   "outputs": [],
   "source": [
    "sh_comp = pd.read_table('HI_profiles_comparison/(input)',skiprows=[0,1,2,3],names=['v_lsr', 'T_B', 'freq', 'wavel'], delimiter = '\\s+')"
   ]
  },
  {
   "cell_type": "code",
   "execution_count": null,
   "id": "varying-desktop",
   "metadata": {},
   "outputs": [],
   "source": [
    "j = 2\n",
    "\n",
    "fig, ax1 = plt.subplots()\n",
    "compTB = sh_comp['T_B']\n",
    "\n",
    "gain = 1\n",
    "noise = 0\n",
    "#noise = 2600\n",
    "#gain = max(10**(spectra[j][0]/10)-2600)/(max(compTB))\n",
    "\n",
    "for k in range(len(freqs[j])):\n",
    "    velocity = f2v(freqs[j][k]*u.GHz) / 1000\n",
    "    if k==0:\n",
    "        ax1.plot(velocity*(u.kilometer)/(u.second)-v_adjustment, (10**(spectra[j][k]/10)-noise)/gain, 'tab:blue',  label = 'CHART')\n",
    "    else:\n",
    "        ax1.plot(velocity*(u.kilometer)/(u.second)-v_adjustment, (10**(spectra[j][k]/10)-noise)/gain, 'tab:blue')\n",
    "spec = spectra[j][0]\n",
    "\n",
    "ax1.plot(sh_comp['v_lsr'],compTB,'tab:orange',linewidth=2, label = 'Model')\n",
    "\n",
    "\n",
    "plt.axvline(0, color='k')\n",
    "plt.xlim(-100,100)\n",
    "ax1.set_ylabel('[dB]')\n",
    "\n",
    "ax1.legend(loc = 'best')\n",
    "\n",
    "plt.xlabel('Radial Velocity km/s')\n",
    "plt.title('CHART HI Profile and Model Profile for l=14 and b=-27 degrees')"
   ]
  }
 ],
 "metadata": {
  "kernelspec": {
   "display_name": "base",
   "language": "python",
   "name": "base"
  },
  "language_info": {
   "codemirror_mode": {
    "name": "ipython",
    "version": 3
   },
   "file_extension": ".py",
   "mimetype": "text/x-python",
   "name": "python",
   "nbconvert_exporter": "python",
   "pygments_lexer": "ipython3",
   "version": "3.6.4"
  }
 },
 "nbformat": 4,
 "nbformat_minor": 5
}
